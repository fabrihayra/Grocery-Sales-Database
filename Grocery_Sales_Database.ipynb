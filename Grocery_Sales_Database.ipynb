{
  "nbformat": 4,
  "nbformat_minor": 0,
  "metadata": {
    "colab": {
      "provenance": [],
      "authorship_tag": "ABX9TyN+KNeV6N7580HCp/QzY8Pq",
      "include_colab_link": true
    },
    "kernelspec": {
      "name": "python3",
      "display_name": "Python 3"
    },
    "language_info": {
      "name": "python"
    }
  },
  "cells": [
    {
      "cell_type": "markdown",
      "metadata": {
        "id": "view-in-github",
        "colab_type": "text"
      },
      "source": [
        "<a href=\"https://colab.research.google.com/github/fabrihayra/Grocery-Sales-Database/blob/main/Grocery_Sales_Database.ipynb\" target=\"_parent\"><img src=\"https://colab.research.google.com/assets/colab-badge.svg\" alt=\"Open In Colab\"/></a>"
      ]
    },
    {
      "cell_type": "code",
      "execution_count": 1,
      "metadata": {
        "colab": {
          "base_uri": "https://localhost:8080/"
        },
        "id": "vcFHP9BXvJhk",
        "outputId": "ab7c0d4a-4f55-450b-80d9-6d0f016ae020"
      },
      "outputs": [
        {
          "output_type": "stream",
          "name": "stdout",
          "text": [
            "Warning: Looks like you're using an outdated `kagglehub` version (installed: 0.3.6), please consider upgrading to the latest version (0.3.7).\n",
            "Downloading from https://www.kaggle.com/api/v1/datasets/download/andrexibiza/grocery-sales-dataset?dataset_version_number=3...\n"
          ]
        },
        {
          "output_type": "stream",
          "name": "stderr",
          "text": [
            "100%|██████████| 223M/223M [00:02<00:00, 82.0MB/s]"
          ]
        },
        {
          "output_type": "stream",
          "name": "stdout",
          "text": [
            "Extracting files...\n"
          ]
        },
        {
          "output_type": "stream",
          "name": "stderr",
          "text": [
            "\n"
          ]
        },
        {
          "output_type": "stream",
          "name": "stdout",
          "text": [
            "Path to dataset files: /root/.cache/kagglehub/datasets/andrexibiza/grocery-sales-dataset/versions/3\n"
          ]
        }
      ],
      "source": [
        "import kagglehub\n",
        "\n",
        "# Download latest version\n",
        "path = kagglehub.dataset_download(\"andrexibiza/grocery-sales-dataset\")\n",
        "\n",
        "print(\"Path to dataset files:\", path)"
      ]
    },
    {
      "cell_type": "code",
      "source": [
        "import pandas as pd\n",
        "import os\n",
        "\n",
        "dataset_path = \"/root/.cache/kagglehub/datasets/andrexibiza/grocery-sales-dataset/versions/3\"\n",
        "\n",
        "files = [\"sales.csv\", \"products.csv\", \"categories.csv\", \"employees.csv\", \"customers.csv\", \"cities.csv\", \"countries.csv\"]\n",
        "dataframes = {}\n",
        "\n",
        "for file in files:\n",
        "    file_path = os.path.join(dataset_path, file)\n",
        "    df = pd.read_csv(file_path)\n",
        "    dataframes[file] = df\n",
        "    print(f\"--- {file} ---\")\n",
        "    print(df.head(), \"\\n\")"
      ],
      "metadata": {
        "colab": {
          "base_uri": "https://localhost:8080/"
        },
        "id": "XxsPb6MF1pu3",
        "outputId": "09c5ec9e-af9d-4e08-eac3-58daf608b0fa"
      },
      "execution_count": 9,
      "outputs": [
        {
          "output_type": "stream",
          "name": "stdout",
          "text": [
            "--- sales.csv ---\n",
            "   SalesID  SalesPersonID  CustomerID  ProductID  Quantity  Discount  \\\n",
            "0        1              6       27039        381         7       0.0   \n",
            "1        2             16       25011         61         7       0.0   \n",
            "2        3             13       94024         23        24       0.0   \n",
            "3        4              8       73966        176        19       0.2   \n",
            "4        5             10       32653        310         9       0.0   \n",
            "\n",
            "   TotalPrice                SalesDate     TransactionNumber  \n",
            "0         0.0  2018-02-05 07:38:25.430  FQL4S94E4ME1EZFTG42G  \n",
            "1         0.0  2018-02-02 16:03:31.150  12UGLX40DJ1A5DTFBHB8  \n",
            "2         0.0  2018-05-03 19:31:56.880  5DT8RCPL87KI5EORO7B0  \n",
            "3         0.0  2018-04-07 14:43:55.420  R3DR9MLD5NR76VO17ULE  \n",
            "4         0.0  2018-02-12 15:37:03.940  4BGS0Z5OMAZ8NDAFHHP3   \n",
            "\n",
            "--- products.csv ---\n",
            "   ProductID                 ProductName    Price  CategoryID   Class  \\\n",
            "0          1         Flour - Whole Wheat  74.2988           3  Medium   \n",
            "1          2  Cookie Chocolate Chip With  91.2329           3  Medium   \n",
            "2          3          Onions - Cippolini   9.1379           9  Medium   \n",
            "3          4  Sauce - Gravy, Au Jus, Mix  54.3055           9  Medium   \n",
            "4          5      Artichokes - Jerusalem  65.4771           2     Low   \n",
            "\n",
            "                ModifyDate Resistant IsAllergic  VitalityDays  \n",
            "0  2018-02-16 08:21:49.190   Durable    Unknown           0.0  \n",
            "1  2017-02-12 11:39:10.970   Unknown    Unknown           0.0  \n",
            "2  2018-03-15 08:11:51.560      Weak      False         111.0  \n",
            "3  2017-07-16 00:46:28.880   Durable    Unknown           0.0  \n",
            "4  2017-08-16 14:13:35.430   Durable       True          27.0   \n",
            "\n",
            "--- categories.csv ---\n",
            "   CategoryID CategoryName\n",
            "0           1  Confections\n",
            "1           2   Shell fish\n",
            "2           3      Cereals\n",
            "3           4        Dairy\n",
            "4           5    Beverages \n",
            "\n",
            "--- employees.csv ---\n",
            "   EmployeeID  FirstName MiddleInitial LastName                BirthDate  \\\n",
            "0           1     Nicole             T   Fuller  1981-03-07 00:00:00.000   \n",
            "1           2  Christine             W   Palmer  1968-01-25 00:00:00.000   \n",
            "2           3      Pablo             Y    Cline  1963-02-09 00:00:00.000   \n",
            "3           4    Darnell             O  Nielsen  1989-02-06 00:00:00.000   \n",
            "4           5    Desiree             L   Stuart  1963-05-03 00:00:00.000   \n",
            "\n",
            "  Gender  CityID                 HireDate  \n",
            "0      F      80  2011-06-20 07:15:36.920  \n",
            "1      F       4  2011-04-27 04:07:56.930  \n",
            "2      M      70  2012-03-30 18:55:23.270  \n",
            "3      M      39  2014-03-06 06:55:02.780  \n",
            "4      F      23  2014-11-16 22:59:54.720   \n",
            "\n",
            "--- customers.csv ---\n",
            "   CustomerID FirstName MiddleInitial LastName  CityID  \\\n",
            "0           1  Stefanie             Y     Frye      79   \n",
            "1           2     Sandy             T    Kirby      96   \n",
            "2           3       Lee             T    Zhang      55   \n",
            "3           4    Regina             S    Avery      40   \n",
            "4           5    Daniel             S   Mccann       2   \n",
            "\n",
            "                        Address  \n",
            "0                 97 Oak Avenue  \n",
            "1        52 White First Freeway  \n",
            "2       921 White Fabien Avenue  \n",
            "3                 75 Old Avenue  \n",
            "4  283 South Green Hague Avenue   \n",
            "\n",
            "--- cities.csv ---\n",
            "   CityID        CityName  Zipcode  CountryID\n",
            "0       1          Dayton    80563         32\n",
            "1       2         Buffalo    17420         32\n",
            "2       3         Chicago    44751         32\n",
            "3       4         Fremont    20641         32\n",
            "4       5  Virginia Beach    62389         32 \n",
            "\n",
            "--- countries.csv ---\n",
            "   CountryID CountryName CountryCode\n",
            "0          1     Armenia          AN\n",
            "1          2      Canada          FO\n",
            "2          3      Belize          MK\n",
            "3          4      Uganda          LV\n",
            "4          5    Thailand          VI \n",
            "\n"
          ]
        }
      ]
    },
    {
      "cell_type": "markdown",
      "source": [
        "# Observations & Initial Insights\n",
        "\n",
        "\n",
        "---\n",
        "\n",
        "\n",
        "**Based on the dataset preview, here are key takeaways:**\n",
        "\n",
        "> Sales Data Issues:\n",
        "\n",
        "* *TotalPrice* is **0.0** for all rows—this might indicate **missing or incorrectly calculated sales values.**\n",
        "* We have fields for **SalesPersonID, CustomerID, ProductID, Quantity, Discount, and SalesDate**, which are crucial for our analysis.\n",
        "\n",
        "> Product & Category Information:\n",
        "\n",
        "* *products.csv* contains **ProductID, CategoryID, Price, and Class.**\n",
        "* *categories.csv* maps **CategoryID to CategoryName.**\n",
        "* *ModifyDate, Resistant, IsAllergic, VitalityDays* exist but may not be useful for supply chain/logistics.\n",
        "\n",
        "> Employee & Customer Data:\n",
        "\n",
        "* *employees.csv* contains **EmployeeID, BirthDate, Gender, CityID, and HireDate** (useful for workforce analysis).\n",
        "* *customers.csv* contains **CustomerID, FirstName, LastName, CityID, Address** (useful for sales segmentation).\n",
        "\n",
        "> Location Data:\n",
        "\n",
        "* *cities.csv* links **CityID to CityName, Zipcode, and CountryID.**\n",
        "* *countries.csv* maps **CountryID to CountryName and CountryCode.**"
      ],
      "metadata": {
        "id": "hBv79X3W2ZB7"
      }
    },
    {
      "cell_type": "code",
      "source": [
        "# Check for missing values\n",
        "for file, df in dataframes.items():\n",
        "    print(f\"Missing values in {file}:\\n\", df.isnull().sum(), \"\\n\")\n",
        "\n",
        "# Check for duplicate rows\n",
        "for file, df in dataframes.items():\n",
        "    print(f\"Duplicate rows in {file}: {df.duplicated().sum()}\\n\")"
      ],
      "metadata": {
        "colab": {
          "base_uri": "https://localhost:8080/"
        },
        "id": "HaYKHoDu1vU3",
        "outputId": "3874e8ac-2209-46d9-dc8a-fc753d59094a"
      },
      "execution_count": 10,
      "outputs": [
        {
          "output_type": "stream",
          "name": "stdout",
          "text": [
            "Missing values in sales.csv:\n",
            " SalesID                  0\n",
            "SalesPersonID            0\n",
            "CustomerID               0\n",
            "ProductID                0\n",
            "Quantity                 0\n",
            "Discount                 0\n",
            "TotalPrice               0\n",
            "SalesDate            67526\n",
            "TransactionNumber        0\n",
            "dtype: int64 \n",
            "\n",
            "Missing values in products.csv:\n",
            " ProductID       0\n",
            "ProductName     0\n",
            "Price           0\n",
            "CategoryID      0\n",
            "Class           0\n",
            "ModifyDate      0\n",
            "Resistant       0\n",
            "IsAllergic      0\n",
            "VitalityDays    0\n",
            "dtype: int64 \n",
            "\n",
            "Missing values in categories.csv:\n",
            " CategoryID      0\n",
            "CategoryName    0\n",
            "dtype: int64 \n",
            "\n",
            "Missing values in employees.csv:\n",
            " EmployeeID       0\n",
            "FirstName        0\n",
            "MiddleInitial    0\n",
            "LastName         0\n",
            "BirthDate        0\n",
            "Gender           0\n",
            "CityID           0\n",
            "HireDate         0\n",
            "dtype: int64 \n",
            "\n",
            "Missing values in customers.csv:\n",
            " CustomerID         0\n",
            "FirstName          0\n",
            "MiddleInitial    977\n",
            "LastName           0\n",
            "CityID             0\n",
            "Address            0\n",
            "dtype: int64 \n",
            "\n",
            "Missing values in cities.csv:\n",
            " CityID       0\n",
            "CityName     0\n",
            "Zipcode      0\n",
            "CountryID    0\n",
            "dtype: int64 \n",
            "\n",
            "Missing values in countries.csv:\n",
            " CountryID      0\n",
            "CountryName    0\n",
            "CountryCode    1\n",
            "dtype: int64 \n",
            "\n",
            "Duplicate rows in sales.csv: 0\n",
            "\n",
            "Duplicate rows in products.csv: 0\n",
            "\n",
            "Duplicate rows in categories.csv: 0\n",
            "\n",
            "Duplicate rows in employees.csv: 0\n",
            "\n",
            "Duplicate rows in customers.csv: 0\n",
            "\n",
            "Duplicate rows in cities.csv: 0\n",
            "\n",
            "Duplicate rows in countries.csv: 0\n",
            "\n"
          ]
        }
      ]
    },
    {
      "cell_type": "markdown",
      "source": [
        "# Handling Missing Sales Dates\n",
        "\n",
        "**Issue:**\n",
        "\n",
        "*(67526 missing values)*\n",
        "\n",
        "1. **SalesDate** is missing for **67,526** rows in **sales.csv**, which is critical for time-based analysis.\n",
        "\n",
        "**Solution Options:**\n",
        "Analyzing database and its variables.\n",
        "If *SalesDate* is missing at random: Drop those rows.\n",
        "If patterns exist: Use customer, product, or transaction trends to estimate missing dates.\n",
        "\n",
        "2. Recalculating **TotalPrice** in sales.csv.\n",
        "\n",
        "Since TotalPrice is 0 for all transactions, we should recalculate it.\n",
        "\n",
        "3. Handling **Missing Country Codes** (1 missing)\n",
        "\n",
        "**Solution:** Find the missing country using CountryID, then manually update."
      ],
      "metadata": {
        "id": "1DxgZLXf6voK"
      }
    },
    {
      "cell_type": "code",
      "source": [
        "print(dataframes[\"sales.csv\"][\"SalesDate\"].isnull().sum())  # Count missing values in SalesDate column\n",
        "print(dataframes[\"sales.csv\"].dtypes)  # Check data types of columns in sales DataFrame"
      ],
      "metadata": {
        "colab": {
          "base_uri": "https://localhost:8080/"
        },
        "id": "hgEoP7Bc35bb",
        "outputId": "c66b2f92-03d3-484a-b86f-c84ae8cc3e5c"
      },
      "execution_count": 14,
      "outputs": [
        {
          "output_type": "stream",
          "name": "stdout",
          "text": [
            "67526\n",
            "SalesID                int64\n",
            "SalesPersonID          int64\n",
            "CustomerID             int64\n",
            "ProductID              int64\n",
            "Quantity               int64\n",
            "Discount             float64\n",
            "TotalPrice           float64\n",
            "SalesDate             object\n",
            "TransactionNumber     object\n",
            "dtype: object\n"
          ]
        }
      ]
    },
    {
      "cell_type": "code",
      "source": [
        "# Converting SalesDate to datetime format\n",
        "dataframes[\"sales.csv\"][\"SalesDate\"] = pd.to_datetime(dataframes[\"sales.csv\"][\"SalesDate\"], errors=\"coerce\")\n",
        "\n",
        "# Verify conversion\n",
        "print(dataframes[\"sales.csv\"].dtypes)  # SalesDate should now be datetime64[ns]\n",
        "print(dataframes[\"sales.csv\"][\"SalesDate\"].head())  # Check if values look correct"
      ],
      "metadata": {
        "colab": {
          "base_uri": "https://localhost:8080/"
        },
        "id": "KNOFfAAi4_rh",
        "outputId": "d1d62659-bd49-4ec4-a3ac-d7c3bf10ef09"
      },
      "execution_count": 17,
      "outputs": [
        {
          "output_type": "stream",
          "name": "stdout",
          "text": [
            "SalesID                       int64\n",
            "SalesPersonID                 int64\n",
            "CustomerID                    int64\n",
            "ProductID                     int64\n",
            "Quantity                      int64\n",
            "Discount                    float64\n",
            "TotalPrice                  float64\n",
            "SalesDate            datetime64[ns]\n",
            "TransactionNumber            object\n",
            "dtype: object\n",
            "0   2018-02-05 07:38:25.430\n",
            "1   2018-02-02 16:03:31.150\n",
            "2   2018-05-03 19:31:56.880\n",
            "3   2018-04-07 14:43:55.420\n",
            "4   2018-02-12 15:37:03.940\n",
            "Name: SalesDate, dtype: datetime64[ns]\n"
          ]
        }
      ]
    },
    {
      "cell_type": "markdown",
      "source": [
        "> 2. Recalculating TotalPrice"
      ],
      "metadata": {
        "id": "rEFvUNNQAPwN"
      }
    },
    {
      "cell_type": "code",
      "source": [
        "sales_df = sales_df.merge(products_df[[\"ProductID\", \"Price\"]], on=\"ProductID\")\n",
        "sales_df[\"TotalPrice\"] = sales_df[\"Quantity\"] * sales_df[\"Price\"] * (1 - sales_df[\"Discount\"])"
      ],
      "metadata": {
        "colab": {
          "base_uri": "https://localhost:8080/",
          "height": 162
        },
        "id": "VHzZfel76dff",
        "outputId": "7eb8302f-5b6b-4036-b262-a9873a6b1a11"
      },
      "execution_count": 23,
      "outputs": [
        {
          "output_type": "error",
          "ename": "AttributeError",
          "evalue": "'str' object has no attribute 'merge'",
          "traceback": [
            "\u001b[0;31m---------------------------------------------------------------------------\u001b[0m",
            "\u001b[0;31mAttributeError\u001b[0m                            Traceback (most recent call last)",
            "\u001b[0;32m<ipython-input-23-ae256026b8f3>\u001b[0m in \u001b[0;36m<cell line: 0>\u001b[0;34m()\u001b[0m\n\u001b[0;32m----> 1\u001b[0;31m \u001b[0msales_df\u001b[0m \u001b[0;34m=\u001b[0m \u001b[0msales_df\u001b[0m\u001b[0;34m.\u001b[0m\u001b[0mmerge\u001b[0m\u001b[0;34m(\u001b[0m\u001b[0mproducts_df\u001b[0m\u001b[0;34m[\u001b[0m\u001b[0;34m[\u001b[0m\u001b[0;34m\"ProductID\"\u001b[0m\u001b[0;34m,\u001b[0m \u001b[0;34m\"Price\"\u001b[0m\u001b[0;34m]\u001b[0m\u001b[0;34m]\u001b[0m\u001b[0;34m,\u001b[0m \u001b[0mon\u001b[0m\u001b[0;34m=\u001b[0m\u001b[0;34m\"ProductID\"\u001b[0m\u001b[0;34m)\u001b[0m\u001b[0;34m\u001b[0m\u001b[0;34m\u001b[0m\u001b[0m\n\u001b[0m\u001b[1;32m      2\u001b[0m \u001b[0msales_df\u001b[0m\u001b[0;34m[\u001b[0m\u001b[0;34m\"TotalPrice\"\u001b[0m\u001b[0;34m]\u001b[0m \u001b[0;34m=\u001b[0m \u001b[0msales_df\u001b[0m\u001b[0;34m[\u001b[0m\u001b[0;34m\"Quantity\"\u001b[0m\u001b[0;34m]\u001b[0m \u001b[0;34m*\u001b[0m \u001b[0msales_df\u001b[0m\u001b[0;34m[\u001b[0m\u001b[0;34m\"Price\"\u001b[0m\u001b[0;34m]\u001b[0m \u001b[0;34m*\u001b[0m \u001b[0;34m(\u001b[0m\u001b[0;36m1\u001b[0m \u001b[0;34m-\u001b[0m \u001b[0msales_df\u001b[0m\u001b[0;34m[\u001b[0m\u001b[0;34m\"Discount\"\u001b[0m\u001b[0;34m]\u001b[0m\u001b[0;34m)\u001b[0m\u001b[0;34m\u001b[0m\u001b[0;34m\u001b[0m\u001b[0m\n",
            "\u001b[0;31mAttributeError\u001b[0m: 'str' object has no attribute 'merge'"
          ]
        }
      ]
    },
    {
      "cell_type": "code",
      "source": [
        "print(type(dataframes['sales.csv']))  # Should return <class 'pandas.core.frame.DataFrame'>\n",
        "print(type(dataframes['products.csv']))  # Should return <class 'pandas.core.frame.DataFrame'>"
      ],
      "metadata": {
        "colab": {
          "base_uri": "https://localhost:8080/"
        },
        "id": "3F2U7ufE8wZm",
        "outputId": "e20e2f7c-4c2c-442d-89dd-aac4dbb21deb"
      },
      "execution_count": 26,
      "outputs": [
        {
          "output_type": "stream",
          "name": "stdout",
          "text": [
            "<class 'str'>\n",
            "<class 'pandas.core.frame.DataFrame'>\n"
          ]
        }
      ]
    },
    {
      "cell_type": "code",
      "source": [
        "import pandas as pd\n",
        "\n",
        "dataset_path = \"/root/.cache/kagglehub/datasets/andrexibiza/grocery-sales-dataset/versions/3\"\n",
        "\n",
        "# Reloading sales.csv properly\n",
        "sales_df = pd.read_csv(f\"{dataset_path}/sales.csv\")\n",
        "\n",
        "# Verifying it's now a DataFrame\n",
        "print(type(sales_df))  # Should return <class 'pandas.core.frame.DataFrame'>"
      ],
      "metadata": {
        "colab": {
          "base_uri": "https://localhost:8080/"
        },
        "id": "1bxJ_tfD-mRX",
        "outputId": "2ca8cc0b-295a-4b72-c8d8-d600fc53b555"
      },
      "execution_count": 27,
      "outputs": [
        {
          "output_type": "stream",
          "name": "stdout",
          "text": [
            "<class 'pandas.core.frame.DataFrame'>\n"
          ]
        }
      ]
    },
    {
      "cell_type": "code",
      "source": [
        "products_df = dataframes[\"products.csv\"]  # Ensure products_df is correct\n",
        "\n",
        "sales_df = sales_df.merge(products_df[[\"ProductID\", \"Price\"]], on=\"ProductID\", how=\"left\")\n",
        "\n",
        "# Recalculate TotalPrice\n",
        "sales_df[\"TotalPrice\"] = sales_df[\"Quantity\"] * sales_df[\"Price\"] * (1 - sales_df[\"Discount\"])\n",
        "\n",
        "print(sales_df.head())  # Verify the merge worked"
      ],
      "metadata": {
        "colab": {
          "base_uri": "https://localhost:8080/"
        },
        "id": "_gXvhzYZ_jQ4",
        "outputId": "81b4f5b3-4969-48d4-bb45-25f6416b4dc9"
      },
      "execution_count": 30,
      "outputs": [
        {
          "output_type": "stream",
          "name": "stdout",
          "text": [
            "   SalesID  SalesPersonID  CustomerID  ProductID  Quantity  Discount  \\\n",
            "0        1              6       27039        381         7       0.0   \n",
            "1        2             16       25011         61         7       0.0   \n",
            "2        3             13       94024         23        24       0.0   \n",
            "3        4              8       73966        176        19       0.2   \n",
            "4        5             10       32653        310         9       0.0   \n",
            "\n",
            "   TotalPrice                SalesDate     TransactionNumber  Price_x  \\\n",
            "0   309.63590  2018-02-05 07:38:25.430  FQL4S94E4ME1EZFTG42G  44.2337   \n",
            "1   437.82200  2018-02-02 16:03:31.150  12UGLX40DJ1A5DTFBHB8  62.5460   \n",
            "2  1896.44160  2018-05-03 19:31:56.880  5DT8RCPL87KI5EORO7B0  79.0184   \n",
            "3  1236.01384  2018-04-07 14:43:55.420  R3DR9MLD5NR76VO17ULE  81.3167   \n",
            "4   719.80200  2018-02-12 15:37:03.940  4BGS0Z5OMAZ8NDAFHHP3  79.9780   \n",
            "\n",
            "   Price_y    Price  \n",
            "0  44.2337  44.2337  \n",
            "1  62.5460  62.5460  \n",
            "2  79.0184  79.0184  \n",
            "3  81.3167  81.3167  \n",
            "4  79.9780  79.9780  \n"
          ]
        }
      ]
    },
    {
      "cell_type": "markdown",
      "source": [
        "> Rounding numbers"
      ],
      "metadata": {
        "id": "aE18IkWFAakU"
      }
    },
    {
      "cell_type": "code",
      "source": [
        "sales_df[[\"Price\",\"Price_x\", \"Price_y\", \"TotalPrice\"]].round(2)\n",
        "print(sales_df.head())"
      ],
      "metadata": {
        "colab": {
          "base_uri": "https://localhost:8080/"
        },
        "id": "ucmkG8HZ_r19",
        "outputId": "e87feb3d-9929-4b3f-b36b-f592883a1a72"
      },
      "execution_count": 38,
      "outputs": [
        {
          "output_type": "stream",
          "name": "stdout",
          "text": [
            "   SalesID  SalesPersonID  CustomerID  ProductID  Quantity  Discount  \\\n",
            "0        1              6       27039        381         7       0.0   \n",
            "1        2             16       25011         61         7       0.0   \n",
            "2        3             13       94024         23        24       0.0   \n",
            "3        4              8       73966        176        19       0.2   \n",
            "4        5             10       32653        310         9       0.0   \n",
            "\n",
            "   TotalPrice                SalesDate     TransactionNumber  Price_x  \\\n",
            "0      309.64  2018-02-05 07:38:25.430  FQL4S94E4ME1EZFTG42G  44.2337   \n",
            "1      437.82  2018-02-02 16:03:31.150  12UGLX40DJ1A5DTFBHB8  62.5460   \n",
            "2     1896.44  2018-05-03 19:31:56.880  5DT8RCPL87KI5EORO7B0  79.0184   \n",
            "3     1236.01  2018-04-07 14:43:55.420  R3DR9MLD5NR76VO17ULE  81.3167   \n",
            "4      719.80  2018-02-12 15:37:03.940  4BGS0Z5OMAZ8NDAFHHP3  79.9780   \n",
            "\n",
            "   Price_y  Price  \n",
            "0      0.0  44.23  \n",
            "1      0.0  62.55  \n",
            "2      0.0  79.02  \n",
            "3      0.2  81.32  \n",
            "4      0.0  79.98  \n"
          ]
        }
      ]
    },
    {
      "cell_type": "markdown",
      "source": [
        "> 3. Handling missing country code"
      ],
      "metadata": {
        "id": "eyFydgedBjvb"
      }
    },
    {
      "cell_type": "code",
      "source": [
        "countries_df = dataframes[\"countries.csv\"]\n",
        "missing_country = countries_df[countries_df[\"CountryCode\"].isnull()]\n",
        "print(missing_country)  # Identifying the country with missing code"
      ],
      "metadata": {
        "colab": {
          "base_uri": "https://localhost:8080/"
        },
        "id": "Mxn9WJfzAweP",
        "outputId": "92f8002e-b91e-450c-8dfd-f6d2b16aa690"
      },
      "execution_count": 40,
      "outputs": [
        {
          "output_type": "stream",
          "name": "stdout",
          "text": [
            "     CountryID CountryName CountryCode\n",
            "145        146   Australia         NaN\n"
          ]
        }
      ]
    },
    {
      "cell_type": "code",
      "source": [
        "# Filling the missing CountryCode for Australia\n",
        "countries_df.loc[countries_df[\"CountryID\"] == 146, \"CountryCode\"] = \"AU\""
      ],
      "metadata": {
        "id": "mmppqdkxBqOI"
      },
      "execution_count": 41,
      "outputs": []
    },
    {
      "cell_type": "code",
      "source": [
        "print(countries_df[countries_df[\"CountryID\"] == 146])"
      ],
      "metadata": {
        "colab": {
          "base_uri": "https://localhost:8080/"
        },
        "id": "lMEaG6gfCLIm",
        "outputId": "831168e6-f2d5-4799-87e4-bcd7cd379f85"
      },
      "execution_count": 42,
      "outputs": [
        {
          "output_type": "stream",
          "name": "stdout",
          "text": [
            "     CountryID CountryName CountryCode\n",
            "145        146   Australia          AU\n"
          ]
        }
      ]
    },
    {
      "cell_type": "code",
      "source": [
        "print(type(dataframes[\"sales.csv\"]))  # Should return <class 'pandas.core.frame.DataFrame'>"
      ],
      "metadata": {
        "colab": {
          "base_uri": "https://localhost:8080/"
        },
        "id": "gCOC3ka2CNMi",
        "outputId": "dac93c62-b7c7-40b8-aea2-df7f84786aa1"
      },
      "execution_count": 49,
      "outputs": [
        {
          "output_type": "stream",
          "name": "stdout",
          "text": [
            "<class 'str'>\n"
          ]
        }
      ]
    },
    {
      "cell_type": "code",
      "source": [
        "dataframes[\"sales.csv\"] = pd.read_csv(f\"{dataset_path}/sales.csv\")\n",
        "print(type(dataframes[\"sales.csv\"]))  # Should now return <class 'pandas.core.frame.DataFrame'>"
      ],
      "metadata": {
        "colab": {
          "base_uri": "https://localhost:8080/"
        },
        "id": "nJl-CGLeCfOp",
        "outputId": "c2a486d1-2abe-452e-c4ce-ee1a31ffebfc"
      },
      "execution_count": 50,
      "outputs": [
        {
          "output_type": "stream",
          "name": "stdout",
          "text": [
            "<class 'pandas.core.frame.DataFrame'>\n"
          ]
        }
      ]
    },
    {
      "cell_type": "code",
      "source": [
        "# Ensuring correct references\n",
        "sales_df = dataframes[\"sales.csv\"]\n",
        "customers_df = dataframes[\"customers.csv\"]\n",
        "\n",
        "# Saving the cleaned datasets\n",
        "sales_df.to_csv(\"cleaned_sales.csv\", index=False)\n",
        "customers_df.to_csv(\"cleaned_customers.csv\", index=False)\n",
        "countries_df.to_csv(\"cleaned_countries.csv\", index=False)\n",
        "\n",
        "print(\"Cleaned data saved successfully!\")\n"
      ],
      "metadata": {
        "colab": {
          "base_uri": "https://localhost:8080/"
        },
        "id": "V_4ToVgjHP3z",
        "outputId": "d92c55da-39a8-461f-c1fd-7b00652eda6c"
      },
      "execution_count": 51,
      "outputs": [
        {
          "output_type": "stream",
          "name": "stdout",
          "text": [
            "Cleaned data saved successfully!\n"
          ]
        }
      ]
    },
    {
      "cell_type": "markdown",
      "source": [
        "# Supply Chain Analysis\n",
        "**Goal:** Understand inventory, demand, and supplier efficiency\n",
        "We’ll start by answering key supply chain questions:\n",
        "\n",
        "1. **Identify Top-Selling Products (Demand Analysis)**\n",
        "\n",
        "Which products are selling the most?\n",
        "Which categories are performing best?"
      ],
      "metadata": {
        "id": "_7cbXiWkHm-J"
      }
    },
    {
      "cell_type": "code",
      "source": [
        "import matplotlib.pyplot as plt\n",
        "\n",
        "# Aggregating total quantity sold per product\n",
        "top_products = sales_df.groupby(\"ProductID\")[\"Quantity\"].sum().reset_index()\n",
        "\n",
        "# Merging with product details\n",
        "top_products = top_products.merge(products_df[[\"ProductID\", \"ProductName\"]], on=\"ProductID\")\n",
        "\n",
        "# Sorting by highest sales\n",
        "top_products = top_products.sort_values(by=\"Quantity\", ascending=False).head(10)\n",
        "\n",
        "print(top_products)"
      ],
      "metadata": {
        "colab": {
          "base_uri": "https://localhost:8080/"
        },
        "id": "w8m2PtqEHXdT",
        "outputId": "4a1fa4ec-1428-4d9a-d21d-9ce3f40b372b"
      },
      "execution_count": 54,
      "outputs": [
        {
          "output_type": "stream",
          "name": "stdout",
          "text": [
            "     ProductID  Quantity              ProductName\n",
            "178        179    199724            Yoghurt Tubes\n",
            "160        161    199679   Longos - Chicken Wings\n",
            "46          47    198567     Thyme - Lemon, Fresh\n",
            "279        280    198163             Onion Powder\n",
            "102        103    198126          Cream Of Tartar\n",
            "323        324    198032         Apricots - Dried\n",
            "38          39    198032               Dried Figs\n",
            "318        319    198005   Towels - Paper / Kraft\n",
            "424        425    197969  Wine - Redchard Merritt\n",
            "183        184    197942            Hersey Shakes\n"
          ]
        }
      ]
    },
    {
      "cell_type": "markdown",
      "source": [
        "Since all values are very close, the default Matplotlib settings make them appear identical. To fix this, we will adjust the X-axis range to make small differences more visible:"
      ],
      "metadata": {
        "id": "tibYRHNAIkSa"
      }
    },
    {
      "cell_type": "code",
      "source": [
        "plt.figure(figsize=(12, 6))  # Setting a wider figure size for clarity\n",
        "\n",
        "# Plotting horizontal bar chart\n",
        "plt.barh(top_products[\"ProductName\"], top_products[\"Quantity\"], color=\"green\")\n",
        "\n",
        "plt.xlabel(\"Total Quantity Sold\")\n",
        "plt.ylabel(\"Product Name\")\n",
        "plt.title(\"Top 10 Best-Selling Products\")\n",
        "\n",
        "# Adjusting X-axis to make small differences noticeable\n",
        "plt.xlim(top_products[\"Quantity\"].min() * 0.98, top_products[\"Quantity\"].max() * 1.02)\n",
        "\n",
        "# Adding grid for better readability\n",
        "plt.grid(axis=\"x\", linestyle=\"--\", alpha=0.7)\n",
        "\n",
        "# Keeping the highest-selling product at the top\n",
        "plt.gca().invert_yaxis()\n",
        "\n",
        "plt.show()\n"
      ],
      "metadata": {
        "colab": {
          "base_uri": "https://localhost:8080/",
          "height": 564
        },
        "id": "OTxivzkYH3Ro",
        "outputId": "29931cf9-8efe-4eab-a6a6-5ee6ffd8a570"
      },
      "execution_count": 61,
      "outputs": [
        {
          "output_type": "display_data",
          "data": {
            "text/plain": [
              "<Figure size 1200x600 with 1 Axes>"
            ],
            "image/png": "[encoded data removed]"
          },
          "metadata": {}
        }
      ]
    },
    {
      "cell_type": "markdown",
      "source": [
        "> Solution 2: Showing it as percentage difference:"
      ],
      "metadata": {
        "id": "AuNi5X_DI2pg"
      }
    },
    {
      "cell_type": "code",
      "source": [
        "# Normalizing values as percentages of the top-selling product\n",
        "top_products[\"SalesPercentage\"] = (top_products[\"Quantity\"] / top_products[\"Quantity\"].max()) * 100\n",
        "\n",
        "plt.figure(figsize=(12, 6))\n",
        "plt.barh(top_products[\"ProductName\"], top_products[\"SalesPercentage\"], color=\"pink\")\n",
        "\n",
        "plt.xlabel(\"Sales Percentage Compared to Top Product (%)\")\n",
        "plt.ylabel(\"Product Name\")\n",
        "plt.title(\"Top 10 Best-Selling Products (Relative Sales)\")\n",
        "\n",
        "plt.xlim(95, 101)  # Showing only relevant percentage differences\n",
        "plt.grid(axis=\"x\", linestyle=\"--\", alpha=0.7)\n",
        "plt.gca().invert_yaxis()\n",
        "\n",
        "plt.show()"
      ],
      "metadata": {
        "colab": {
          "base_uri": "https://localhost:8080/",
          "height": 564
        },
        "id": "VCNSqspZIxEM",
        "outputId": "3ea9b41d-5d86-460c-fbf5-467955c673f2"
      },
      "execution_count": 59,
      "outputs": [
        {
          "output_type": "display_data",
          "data": {
            "text/plain": [
              "<Figure size 1200x600 with 1 Axes>"
            ],
            "image/png": "[encoded data removed]"
          },
          "metadata": {}
        }
      ]
    },
    {
      "cell_type": "markdown",
      "source": [
        "# Top 10 Best-Selling Products analysis reveals:\n",
        "\n",
        "- Small percentage differences between the best-sellers, meaning **demand is fairly even across the top products.**\n",
        "- **Yoghurt Tubes & Longos Chicken Wings** are the top two, but only slightly ahead of the rest.\n",
        "- **Dried fruits, seasonings, and beverages make up a significant portion of top sales**, suggesting that packaged and non-perishable goods are in high\n",
        "demand.\n",
        "\n",
        "\n",
        "### **This is valuable because:**\n",
        "> Inventory Planning → Ensuring stock levels are managed for these high-demand products.\n",
        "\n",
        "> Marketing & Promotions → These products can be highlighted in promotions.\n",
        "\n",
        "> Logistics Optimization → Warehouses should prioritize quick restocking of these items."
      ],
      "metadata": {
        "id": "_n4kvHIEJqgz"
      }
    },
    {
      "cell_type": "code",
      "source": [
        "# Merging sales with product details to get category info\n",
        "sales_with_products = sales_df.merge(products_df[[\"ProductID\", \"CategoryID\"]], on=\"ProductID\")\n",
        "\n",
        "# Merging with categories dataset to get category names\n",
        "sales_with_categories = sales_with_products.merge(dataframes['categories.csv'], on=\"CategoryID\")\n",
        "\n",
        "# Aggregating total quantity sold per category\n",
        "category_sales = sales_with_categories.groupby(\"CategoryName\")[\"Quantity\"].sum().reset_index()\n",
        "\n",
        "# Sorting by highest sales\n",
        "category_sales = category_sales.sort_values(by=\"Quantity\", ascending=False)\n",
        "\n",
        "# Plot\n",
        "plt.figure(figsize=(12, 6))\n",
        "plt.barh(category_sales[\"CategoryName\"], category_sales[\"Quantity\"] / 1_000_000, color=\"green\")\n",
        "\n",
        "plt.xlabel(\"Total Quantity Sold (Millions)\")\n",
        "plt.ylabel(\"Category Name\")\n",
        "plt.title(\"Best-Selling Categories\")\n",
        "\n",
        "plt.gca().invert_yaxis()\n",
        "plt.show()\n"
      ],
      "metadata": {
        "colab": {
          "base_uri": "https://localhost:8080/",
          "height": 564
        },
        "id": "H579ltnII94h",
        "outputId": "934c18ef-dafb-424d-9472-eca7393c81e2"
      },
      "execution_count": 65,
      "outputs": [
        {
          "output_type": "display_data",
          "data": {
            "text/plain": [
              "<Figure size 1200x600 with 1 Axes>"
            ],
            "image/png": "[encoded data removed]"
          },
          "metadata": {}
        }
      ]
    },
    {
      "cell_type": "markdown",
      "source": [
        "# 🔍 Insights & Business Implications\n",
        "1. **Inventory & Supply Chain Planning**\n",
        "\n",
        "High demand for Confections, Meat, and Poultry means priority stocking and supplier management are needed.\n",
        "Produce and Dairy have lower sales, which could indicate perishable nature leading to lower inventory turnover.\n",
        "\n",
        "2. **Marketing & Promotions**\n",
        "\n",
        "Confections being the best-seller suggests strong consumer demand for snacks and sweets — ideal for seasonal promotions.\n",
        "Beverages and Cereals are steady sellers, meaning bundling strategies with top products could work.\n",
        "\n",
        "3. **Logistics & Distribution**\n",
        "\n",
        "Meat and Poultry being high-selling means cold chain logistics must be optimized to prevent spoilage.\n",
        "However, shellfish and Seafood have lower sales, possibly due to higher costs, perishability, or regional demand differences.\n"
      ],
      "metadata": {
        "id": "vahTccEXLEsS"
      }
    },
    {
      "cell_type": "code",
      "source": [],
      "metadata": {
        "id": "OIUUvtrlMFXw"
      },
      "execution_count": null,
      "outputs": []
    }
  ]
}